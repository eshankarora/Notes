{
 "cells": [
  {
   "cell_type": "code",
   "execution_count": 3,
   "metadata": {},
   "outputs": [],
   "source": [
    "import torch\n",
    "import torchvision\n",
    "from torchvision import transforms, datasets"
   ]
  },
  {
   "cell_type": "code",
   "execution_count": 8,
   "metadata": {},
   "outputs": [],
   "source": [
    "train = datasets.MNIST(\"\",train=True,download=True,\n",
    "                       transform = transforms.Compose([transforms.ToTensor()]))\n",
    "\n",
    "test = datasets.MNIST(\"\",train=False,download=True,\n",
    "                       transform = transforms.Compose([transforms.ToTensor()]))"
   ]
  },
  {
   "cell_type": "code",
   "execution_count": 9,
   "metadata": {},
   "outputs": [],
   "source": [
    "trainset = torch.utils.data.DataLoader(train,batch_size=10,shuffle=True)\n",
    "testset = torch.utils.data.DataLoader(test,batch_size=10,shuffle=True)"
   ]
  },
  {
   "cell_type": "code",
   "execution_count": 12,
   "metadata": {
    "collapsed": true
   },
   "outputs": [
    {
     "name": "stdout",
     "output_type": "stream",
     "text": [
      "[tensor([[[[0., 0., 0.,  ..., 0., 0., 0.],\n",
      "          [0., 0., 0.,  ..., 0., 0., 0.],\n",
      "          [0., 0., 0.,  ..., 0., 0., 0.],\n",
      "          ...,\n",
      "          [0., 0., 0.,  ..., 0., 0., 0.],\n",
      "          [0., 0., 0.,  ..., 0., 0., 0.],\n",
      "          [0., 0., 0.,  ..., 0., 0., 0.]]],\n",
      "\n",
      "\n",
      "        [[[0., 0., 0.,  ..., 0., 0., 0.],\n",
      "          [0., 0., 0.,  ..., 0., 0., 0.],\n",
      "          [0., 0., 0.,  ..., 0., 0., 0.],\n",
      "          ...,\n",
      "          [0., 0., 0.,  ..., 0., 0., 0.],\n",
      "          [0., 0., 0.,  ..., 0., 0., 0.],\n",
      "          [0., 0., 0.,  ..., 0., 0., 0.]]],\n",
      "\n",
      "\n",
      "        [[[0., 0., 0.,  ..., 0., 0., 0.],\n",
      "          [0., 0., 0.,  ..., 0., 0., 0.],\n",
      "          [0., 0., 0.,  ..., 0., 0., 0.],\n",
      "          ...,\n",
      "          [0., 0., 0.,  ..., 0., 0., 0.],\n",
      "          [0., 0., 0.,  ..., 0., 0., 0.],\n",
      "          [0., 0., 0.,  ..., 0., 0., 0.]]],\n",
      "\n",
      "\n",
      "        ...,\n",
      "\n",
      "\n",
      "        [[[0., 0., 0.,  ..., 0., 0., 0.],\n",
      "          [0., 0., 0.,  ..., 0., 0., 0.],\n",
      "          [0., 0., 0.,  ..., 0., 0., 0.],\n",
      "          ...,\n",
      "          [0., 0., 0.,  ..., 0., 0., 0.],\n",
      "          [0., 0., 0.,  ..., 0., 0., 0.],\n",
      "          [0., 0., 0.,  ..., 0., 0., 0.]]],\n",
      "\n",
      "\n",
      "        [[[0., 0., 0.,  ..., 0., 0., 0.],\n",
      "          [0., 0., 0.,  ..., 0., 0., 0.],\n",
      "          [0., 0., 0.,  ..., 0., 0., 0.],\n",
      "          ...,\n",
      "          [0., 0., 0.,  ..., 0., 0., 0.],\n",
      "          [0., 0., 0.,  ..., 0., 0., 0.],\n",
      "          [0., 0., 0.,  ..., 0., 0., 0.]]],\n",
      "\n",
      "\n",
      "        [[[0., 0., 0.,  ..., 0., 0., 0.],\n",
      "          [0., 0., 0.,  ..., 0., 0., 0.],\n",
      "          [0., 0., 0.,  ..., 0., 0., 0.],\n",
      "          ...,\n",
      "          [0., 0., 0.,  ..., 0., 0., 0.],\n",
      "          [0., 0., 0.,  ..., 0., 0., 0.],\n",
      "          [0., 0., 0.,  ..., 0., 0., 0.]]]]), tensor([1, 0, 9, 3, 6, 4, 1, 8, 2, 0])]\n"
     ]
    }
   ],
   "source": [
    "for data in trainset:\n",
    "    print(data)\n",
    "    break"
   ]
  },
  {
   "cell_type": "code",
   "execution_count": 15,
   "metadata": {},
   "outputs": [
    {
     "data": {
      "text/plain": [
       "<matplotlib.image.AxesImage at 0x12ea73850>"
      ]
     },
     "execution_count": 15,
     "metadata": {},
     "output_type": "execute_result"
    },
    {
     "data": {
      "image/png": "[encoded data removed]",
      "text/plain": [
       "<Figure size 432x288 with 1 Axes>"
      ]
     },
     "metadata": {
      "needs_background": "light"
     },
     "output_type": "display_data"
    }
   ],
   "source": [
    "import matplotlib.pyplot as plt\n",
    "plt.imshow(data[0][0].view(28,28))"
   ]
  },
  {
   "cell_type": "code",
   "execution_count": 17,
   "metadata": {},
   "outputs": [],
   "source": [
    "# VID 3\n",
    "import torch.nn as nn\n",
    "import torch.nn.functional as F"
   ]
  },
  {
   "cell_type": "code",
   "execution_count": 44,
   "metadata": {},
   "outputs": [
    {
     "name": "stdout",
     "output_type": "stream",
     "text": [
      "Net(\n",
      "  (fc1): Linear(in_features=784, out_features=64, bias=True)\n",
      "  (fc2): Linear(in_features=64, out_features=64, bias=True)\n",
      "  (fc3): Linear(in_features=64, out_features=64, bias=True)\n",
      "  (fc4): Linear(in_features=64, out_features=10, bias=True)\n",
      ")\n"
     ]
    }
   ],
   "source": [
    "class Net(nn.Module):\n",
    "    \n",
    "    def __init__(self):\n",
    "        super().__init__()\n",
    "        #28*28=784 fc:fullyconnected\n",
    "        self.fc1 = nn.Linear(784,64)\n",
    "        self.fc2 = nn.Linear(64,64)\n",
    "        self.fc3 = nn.Linear(64,64)\n",
    "        self.fc4 = nn.Linear(64,10)\n",
    "    \n",
    "    # will define how the data will flow through the layers\n",
    "    def forward(self,x):\n",
    "        x = F.relu(self.fc1(x))\n",
    "        x = F.relu(self.fc2(x))\n",
    "        x = F.relu(self.fc3(x))\n",
    "        x = self.fc4(x)\n",
    "        return F.log_softmax(x,dim=1)\n",
    "        # dim=1 means across output layer\n",
    "        \n",
    "        \n",
    "        \n",
    "net = Net()\n",
    "print(net)"
   ]
  },
  {
   "cell_type": "code",
   "execution_count": 45,
   "metadata": {},
   "outputs": [
    {
     "name": "stdout",
     "output_type": "stream",
     "text": [
      "torch.Size([1, 784])\n"
     ]
    }
   ],
   "source": [
    "X = torch.rand((28,28))\n",
    "X = X.view(1,28*28)\n",
    "print(X.shape)"
   ]
  },
  {
   "cell_type": "code",
   "execution_count": 46,
   "metadata": {},
   "outputs": [],
   "source": [
    "output = net(X)"
   ]
  },
  {
   "cell_type": "code",
   "execution_count": 47,
   "metadata": {},
   "outputs": [
    {
     "data": {
      "text/plain": [
       "tensor([[-2.3314, -2.3523, -2.2792, -2.4054, -2.2567, -2.2879, -2.2043, -2.2742,\n",
       "         -2.3472, -2.3018]], grad_fn=<LogSoftmaxBackward>)"
      ]
     },
     "execution_count": 47,
     "metadata": {},
     "output_type": "execute_result"
    }
   ],
   "source": [
    "output "
   ]
  },
  {
   "cell_type": "code",
   "execution_count": 51,
   "metadata": {},
   "outputs": [
    {
     "name": "stdout",
     "output_type": "stream",
     "text": [
      "<generator object Module.parameters at 0x12ff90350>\n"
     ]
    }
   ],
   "source": [
    "print(net.parameters())"
   ]
  },
  {
   "cell_type": "code",
   "execution_count": 52,
   "metadata": {},
   "outputs": [
    {
     "name": "stdout",
     "output_type": "stream",
     "text": [
      "tensor(0.2227, grad_fn=<NllLossBackward>)\n",
      "tensor(0.0363, grad_fn=<NllLossBackward>)\n",
      "tensor(0.0140, grad_fn=<NllLossBackward>)\n"
     ]
    }
   ],
   "source": [
    "# VID 4\n",
    "import torch.optim as optim\n",
    "\n",
    "optimizer = optim.Adam(net.parameters(),lr=0.001)\n",
    "\n",
    "EPOCHS =3\n",
    "# ONE HOT VECTOR : One value is on\n",
    "for epoch in range(EPOCHS):\n",
    "    for data in trainset:\n",
    "        # data is a batch of featureset and labels\n",
    "        X, y = data\n",
    "        net.zero_grad()\n",
    "        output =  net(X.view(-1,28*28))\n",
    "        # nll_loss used because our output is a scalar.\n",
    "        loss = F.nll_loss(output,y)\n",
    "        loss.backward()\n",
    "        optimizer.step()\n",
    "    print(loss)"
   ]
  },
  {
   "cell_type": "code",
   "execution_count": 53,
   "metadata": {},
   "outputs": [
    {
     "name": "stdout",
     "output_type": "stream",
     "text": [
      "0.976\n"
     ]
    }
   ],
   "source": [
    "correct = 0\n",
    "total = 0\n",
    "with torch.no_grad():\n",
    "    for data in trainset:\n",
    "        X, y = data\n",
    "        output =  net(X.view(-1,28*28))\n",
    "        for idx, i in enumerate(output):\n",
    "            if torch.argmax(i) == y[idx]:\n",
    "                correct+=1\n",
    "            total+=1\n",
    "print(round(correct/total,3))"
   ]
  },
  {
   "cell_type": "code",
   "execution_count": 55,
   "metadata": {},
   "outputs": [
    {
     "data": {
      "image/png": "[encoded data removed]",
      "text/plain": [
       "<Figure size 432x288 with 1 Axes>"
      ]
     },
     "metadata": {
      "needs_background": "light"
     },
     "output_type": "display_data"
    }
   ],
   "source": [
    "plt.imshow(X[0].view(28,28))\n",
    "plt.show()"
   ]
  },
  {
   "cell_type": "code",
   "execution_count": 57,
   "metadata": {},
   "outputs": [
    {
     "name": "stdout",
     "output_type": "stream",
     "text": [
      "tensor(9, grad_fn=<NotImplemented>)\n"
     ]
    }
   ],
   "source": [
    "print(torch.argmax(net(X[0].view(-1,784))[0]))"
   ]
  },
  {
   "cell_type": "code",
   "execution_count": 59,
   "metadata": {},
   "outputs": [],
   "source": [
    "# VID 5 : CONV NET INTRO\n",
    "# Recently cnn have been proved to be better than RNN in sequential tasks as well.\n",
    "# takes 2d input ,convulation window is generally called a kernel\n",
    "import os\n",
    "import cv2\n",
    "import numpy as np\n",
    "from tqdm import tqdm"
   ]
  },
  {
   "cell_type": "code",
   "execution_count": 67,
   "metadata": {},
   "outputs": [
    {
     "name": "stderr",
     "output_type": "stream",
     "text": [
      "  0%|          | 9/12501 [00:00<02:21, 88.59it/s]"
     ]
    },
    {
     "name": "stdout",
     "output_type": "stream",
     "text": [
      "/Users/eshankarora/Downloads/kagglecatsanddogs_3367a/PetImages/Cat\n"
     ]
    },
    {
     "name": "stderr",
     "output_type": "stream",
     "text": [
      "100%|██████████| 12501/12501 [02:09<00:00, 96.60it/s] \n",
      "  0%|          | 11/12501 [00:00<02:03, 101.25it/s]"
     ]
    },
    {
     "name": "stdout",
     "output_type": "stream",
     "text": [
      "/Users/eshankarora/Downloads/kagglecatsanddogs_3367a/PetImages/Dog\n"
     ]
    },
    {
     "name": "stderr",
     "output_type": "stream",
     "text": [
      "100%|██████████| 12501/12501 [02:13<00:00, 93.65it/s] \n"
     ]
    },
    {
     "name": "stdout",
     "output_type": "stream",
     "text": [
      "12476 12470\n"
     ]
    }
   ],
   "source": [
    "REBUILD_DATA = True\n",
    "\n",
    "class DogsVSCats():\n",
    "    IMG_SIZE=50\n",
    "    CATS=\"/Users/eshankarora/Downloads/kagglecatsanddogs_3367a/PetImages/Cat\"\n",
    "    DOGS=\"/Users/eshankarora/Downloads/kagglecatsanddogs_3367a/PetImages/Dog\"\n",
    "    LABELS = {CATS : 0 , DOGS : 1}\n",
    "    training_data = []\n",
    "    catcount = 0\n",
    "    dogcount = 0\n",
    "    \n",
    "    def make_training_data(self):\n",
    "        for label in self.LABELS:\n",
    "            print(label)\n",
    "            for f in tqdm(os.listdir(label)):\n",
    "                try:\n",
    "                    path = os.path.join(label,f)\n",
    "                    img = cv2.imread(path,cv2.IMREAD_GRAYSCALE)\n",
    "                    # color does not add another dimension to data, it adds another channel (??)\n",
    "                    img = cv2.resize(img, (self.IMG_SIZE,self.IMG_SIZE))\n",
    "                    self.training_data.append([np.array(img), np.eye(2)[self.LABELS[label]]])\n",
    "                \n",
    "                    if label == self.CATS:\n",
    "                        self.catcount+=1\n",
    "                    elif label == self.DOGS:\n",
    "                        self.dogcount+=1\n",
    "                except Exception as e:\n",
    "                    pass\n",
    "                    # print(str(e))\n",
    "        np.random.shuffle(self.training_data)\n",
    "        np.save(\"training_data.npy\",self.training_data)\n",
    "        print(self.catcount,self.dogcount)\n",
    "\n",
    "if REBUILD_DATA:\n",
    "    dogvcats = DogsVSCats()\n",
    "    dogvcats.make_training_data()"
   ]
  },
  {
   "cell_type": "code",
   "execution_count": 69,
   "metadata": {},
   "outputs": [],
   "source": [
    "training_data = np.load(\"training_data.npy\",allow_pickle=True)"
   ]
  },
  {
   "cell_type": "code",
   "execution_count": 73,
   "metadata": {},
   "outputs": [
    {
     "data": {
      "text/plain": [
       "<matplotlib.image.AxesImage at 0x13ece9610>"
      ]
     },
     "execution_count": 73,
     "metadata": {},
     "output_type": "execute_result"
    },
    {
     "data": {
      "image/png": "[encoded data removed]",
      "text/plain": [
       "<Figure size 432x288 with 1 Axes>"
      ]
     },
     "metadata": {
      "needs_background": "light"
     },
     "output_type": "display_data"
    }
   ],
   "source": [
    "plt.imshow(training_data[1][0],cmap=\"gray\")"
   ]
  },
  {
   "cell_type": "code",
   "execution_count": 74,
   "metadata": {},
   "outputs": [
    {
     "name": "stdout",
     "output_type": "stream",
     "text": [
      "[1. 0.]\n"
     ]
    }
   ],
   "source": [
    "print(training_data[1][1])"
   ]
  },
  {
   "cell_type": "code",
   "execution_count": 100,
   "metadata": {},
   "outputs": [],
   "source": [
    "class Net(nn.Module):\n",
    "    def __init__(self):\n",
    "        super().__init__()\n",
    "        self.conv1 = nn.Conv2d(1,32,5)\n",
    "        self.conv2 = nn.Conv2d(32,64,5)\n",
    "        self.conv3 = nn.Conv2d(64,128,5)\n",
    "        \n",
    "        x = torch .randn(50,50).view(-1,1,50,50)\n",
    "        self._to_linear = None\n",
    "        self.convs(x)        \n",
    "        \n",
    "        self.fc1 = nn.Linear(self._to_linear,512)\n",
    "        self.fc2 = nn.Linear(512,2)\n",
    "        \n",
    "    def convs(self,x):\n",
    "        x = F.max_pool2d(F.relu(self.conv1(x)),(2,2))\n",
    "        x = F.max_pool2d(F.relu(self.conv2(x)),(2,2))\n",
    "        x = F.max_pool2d(F.relu(self.conv3(x)),(2,2))\n",
    "        #print(x[0].shape)\n",
    "        if self._to_linear is None :\n",
    "            self._to_linear = x[0].shape[0]*x[0].shape[1]*x[0].shape[2]\n",
    "        return x\n",
    "    \n",
    "    def forward(self,x):\n",
    "        x = self.convs(x)\n",
    "        x = x.view(-1,self._to_linear)\n",
    "        x = F.relu(self.fc1(x))\n",
    "        x = self.fc2(x)\n",
    "        return F.softmax(x,dim=1)\n",
    "\n",
    "net = Net()"
   ]
  },
  {
   "cell_type": "code",
   "execution_count": 90,
   "metadata": {},
   "outputs": [
    {
     "name": "stdout",
     "output_type": "stream",
     "text": [
      "2494\n"
     ]
    }
   ],
   "source": [
    "optimizer = optim.Adam(net.parameters(),lr=0.001)\n",
    "loss_function = nn.MSELoss()\n",
    "\n",
    "X = torch.Tensor([i[0] for i in training_data]).view(-1,50,50)\n",
    "X = X/255.0\n",
    "y = torch.Tensor([i[1] for i in training_data])\n",
    "\n",
    "VAL_PCT = 0.1\n",
    "val_size = int(len(X)*VAL_PCT)\n",
    "print(val_size)"
   ]
  },
  {
   "cell_type": "code",
   "execution_count": 99,
   "metadata": {},
   "outputs": [
    {
     "name": "stdout",
     "output_type": "stream",
     "text": [
      "22452 2494\n"
     ]
    }
   ],
   "source": [
    "train_X = X[:-val_size]\n",
    "train_y = y[:-val_size]\n",
    "\n",
    "test_X = X[-val_size:]\n",
    "test_y = y[-val_size:]\n",
    "print(len(train_X),len(test_X))"
   ]
  },
  {
   "cell_type": "code",
   "execution_count": 103,
   "metadata": {
    "collapsed": true
   },
   "outputs": [
    {
     "name": "stderr",
     "output_type": "stream",
     "text": [
      "\n",
      "  0%|          | 0/225 [00:00<?, ?it/s]\u001b[A\n",
      "  0%|          | 1/225 [00:00<02:18,  1.62it/s]\u001b[A\n",
      "  1%|          | 2/225 [00:01<02:10,  1.70it/s]\u001b[A\n",
      "  1%|▏         | 3/225 [00:01<02:05,  1.76it/s]\u001b[A\n",
      "  2%|▏         | 4/225 [00:02<02:02,  1.81it/s]\u001b[A\n",
      "  2%|▏         | 5/225 [00:02<01:58,  1.85it/s]\u001b[A\n",
      "  3%|▎         | 6/225 [00:03<01:56,  1.89it/s]\u001b[A\n",
      "  3%|▎         | 7/225 [00:03<01:56,  1.87it/s]\u001b[A\n",
      "  4%|▎         | 8/225 [00:04<01:55,  1.88it/s]\u001b[A\n",
      "  4%|▍         | 9/225 [00:04<01:53,  1.90it/s]\u001b[A\n",
      "  4%|▍         | 10/225 [00:05<01:51,  1.93it/s]\u001b[A\n",
      "  5%|▍         | 11/225 [00:05<01:50,  1.93it/s]\u001b[A\n",
      "  5%|▌         | 12/225 [00:06<01:51,  1.91it/s]\u001b[A\n",
      "  6%|▌         | 13/225 [00:06<01:50,  1.93it/s]\u001b[A\n",
      "  6%|▌         | 14/225 [00:07<01:49,  1.92it/s]\u001b[A\n",
      "  7%|▋         | 15/225 [00:07<01:50,  1.89it/s]\u001b[A\n",
      "  7%|▋         | 16/225 [00:08<01:50,  1.89it/s]\u001b[A\n",
      "  8%|▊         | 17/225 [00:08<01:48,  1.91it/s]\u001b[A\n",
      "  8%|▊         | 18/225 [00:09<01:48,  1.92it/s]\u001b[A\n",
      "  8%|▊         | 19/225 [00:10<01:54,  1.80it/s]\u001b[A\n",
      "  9%|▉         | 20/225 [00:10<01:51,  1.85it/s]\u001b[A\n",
      "  9%|▉         | 21/225 [00:11<01:48,  1.88it/s]\u001b[A\n",
      " 10%|▉         | 22/225 [00:11<01:48,  1.87it/s]\u001b[A\n",
      " 10%|█         | 23/225 [00:12<01:49,  1.85it/s]\u001b[A\n",
      " 11%|█         | 24/225 [00:12<01:46,  1.89it/s]\u001b[A\n",
      " 11%|█         | 25/225 [00:13<01:44,  1.91it/s]\u001b[A\n",
      " 12%|█▏        | 26/225 [00:13<01:43,  1.92it/s]\u001b[A\n",
      " 12%|█▏        | 27/225 [00:14<01:44,  1.89it/s]\u001b[A\n",
      " 12%|█▏        | 28/225 [00:14<01:43,  1.90it/s]\u001b[A\n",
      " 13%|█▎        | 29/225 [00:15<01:45,  1.87it/s]\u001b[A\n",
      " 13%|█▎        | 30/225 [00:16<01:53,  1.72it/s]\u001b[A\n",
      " 14%|█▍        | 31/225 [00:16<01:49,  1.78it/s]\u001b[A\n",
      " 14%|█▍        | 32/225 [00:17<01:45,  1.84it/s]\u001b[A\n",
      " 15%|█▍        | 33/225 [00:17<01:42,  1.87it/s]\u001b[A\n",
      " 15%|█▌        | 34/225 [00:18<01:40,  1.90it/s]\u001b[A\n",
      " 16%|█▌        | 35/225 [00:18<01:39,  1.91it/s]\u001b[A\n",
      " 16%|█▌        | 36/225 [00:19<01:37,  1.93it/s]\u001b[A\n",
      " 16%|█▋        | 37/225 [00:19<01:36,  1.95it/s]\u001b[A\n",
      " 17%|█▋        | 38/225 [00:20<01:35,  1.96it/s]\u001b[A\n",
      " 17%|█▋        | 39/225 [00:20<01:34,  1.96it/s]\u001b[A\n",
      " 18%|█▊        | 40/225 [00:21<01:33,  1.97it/s]\u001b[A\n",
      " 18%|█▊        | 41/225 [00:21<01:32,  1.98it/s]\u001b[A\n",
      " 19%|█▊        | 42/225 [00:22<01:32,  1.98it/s]\u001b[A\n",
      " 19%|█▉        | 43/225 [00:22<01:32,  1.97it/s]\u001b[A\n",
      " 20%|█▉        | 44/225 [00:23<01:31,  1.98it/s]\u001b[A\n",
      " 20%|██        | 45/225 [00:23<01:30,  1.98it/s]\u001b[A\n",
      " 20%|██        | 46/225 [00:24<01:30,  1.98it/s]\u001b[A\n",
      " 21%|██        | 47/225 [00:24<01:29,  1.99it/s]\u001b[A\n",
      " 21%|██▏       | 48/225 [00:25<01:28,  1.99it/s]\u001b[A\n",
      " 22%|██▏       | 49/225 [00:25<01:28,  1.99it/s]\u001b[A\n",
      " 22%|██▏       | 50/225 [00:26<01:28,  1.98it/s]\u001b[A\n",
      " 23%|██▎       | 51/225 [00:26<01:27,  1.98it/s]\u001b[A\n",
      " 23%|██▎       | 52/225 [00:27<01:26,  1.99it/s]\u001b[A\n",
      " 24%|██▎       | 53/225 [00:27<01:26,  1.99it/s]\u001b[A\n",
      " 24%|██▍       | 54/225 [00:28<01:26,  1.99it/s]\u001b[A\n",
      " 24%|██▍       | 55/225 [00:28<01:26,  1.97it/s]\u001b[A\n",
      " 25%|██▍       | 56/225 [00:29<01:25,  1.98it/s]\u001b[A\n",
      " 25%|██▌       | 57/225 [00:29<01:24,  1.98it/s]\u001b[A\n",
      " 26%|██▌       | 58/225 [00:30<01:24,  1.98it/s]\u001b[A\n",
      " 26%|██▌       | 59/225 [00:30<01:23,  1.98it/s]\u001b[A\n",
      " 27%|██▋       | 60/225 [00:31<01:23,  1.97it/s]\u001b[A\n",
      " 27%|██▋       | 61/225 [00:31<01:22,  1.98it/s]\u001b[A\n",
      " 28%|██▊       | 62/225 [00:32<01:22,  1.97it/s]\u001b[A\n",
      " 28%|██▊       | 63/225 [00:32<01:21,  1.98it/s]\u001b[A\n",
      " 28%|██▊       | 64/225 [00:33<01:21,  1.98it/s]\u001b[A\n",
      " 29%|██▉       | 65/225 [00:33<01:20,  1.98it/s]\u001b[A\n",
      " 29%|██▉       | 66/225 [00:34<01:20,  1.98it/s]\u001b[A\n",
      " 30%|██▉       | 67/225 [00:34<01:20,  1.96it/s]\u001b[A\n",
      " 30%|███       | 68/225 [00:35<01:19,  1.97it/s]\u001b[A\n",
      " 31%|███       | 69/225 [00:35<01:18,  1.98it/s]\u001b[A\n",
      " 31%|███       | 70/225 [00:36<01:18,  1.98it/s]\u001b[A\n",
      " 32%|███▏      | 71/225 [00:36<01:17,  1.99it/s]\u001b[A\n",
      " 32%|███▏      | 72/225 [00:37<01:17,  1.98it/s]\u001b[A\n",
      " 32%|███▏      | 73/225 [00:37<01:16,  1.98it/s]\u001b[A\n",
      " 33%|███▎      | 74/225 [00:38<01:16,  1.97it/s]\u001b[A\n",
      " 33%|███▎      | 75/225 [00:38<01:15,  1.98it/s]\u001b[A\n",
      " 34%|███▍      | 76/225 [00:39<01:17,  1.92it/s]\u001b[A\n",
      " 34%|███▍      | 77/225 [00:39<01:16,  1.93it/s]\u001b[A\n",
      " 35%|███▍      | 78/225 [00:40<01:16,  1.93it/s]\u001b[A\n",
      " 35%|███▌      | 79/225 [00:40<01:16,  1.92it/s]\u001b[A\n",
      " 36%|███▌      | 80/225 [00:41<01:14,  1.94it/s]\u001b[A\n",
      " 36%|███▌      | 81/225 [00:41<01:13,  1.95it/s]\u001b[A\n",
      " 36%|███▋      | 82/225 [00:42<01:12,  1.96it/s]\u001b[A\n",
      " 37%|███▋      | 83/225 [00:42<01:12,  1.97it/s]\u001b[A\n",
      " 37%|███▋      | 84/225 [00:43<01:12,  1.95it/s]\u001b[A\n",
      " 38%|███▊      | 85/225 [00:43<01:11,  1.96it/s]\u001b[A\n",
      " 38%|███▊      | 86/225 [00:44<01:10,  1.97it/s]\u001b[A\n",
      " 39%|███▊      | 87/225 [00:44<01:10,  1.97it/s]\u001b[A\n",
      " 39%|███▉      | 88/225 [00:45<01:09,  1.97it/s]\u001b[A\n",
      " 40%|███▉      | 89/225 [00:45<01:08,  1.98it/s]\u001b[A\n",
      " 40%|████      | 90/225 [00:46<01:08,  1.96it/s]\u001b[A\n",
      " 40%|████      | 91/225 [00:47<01:08,  1.96it/s]\u001b[A\n",
      " 41%|████      | 92/225 [00:47<01:07,  1.96it/s]\u001b[A\n",
      " 41%|████▏     | 93/225 [00:48<01:07,  1.96it/s]\u001b[A\n",
      " 42%|████▏     | 94/225 [00:48<01:06,  1.97it/s]\u001b[A\n",
      " 42%|████▏     | 95/225 [00:49<01:06,  1.97it/s]\u001b[A\n",
      " 43%|████▎     | 96/225 [00:49<01:05,  1.96it/s]\u001b[A\n",
      " 43%|████▎     | 97/225 [00:50<01:05,  1.97it/s]\u001b[A\n",
      " 44%|████▎     | 98/225 [00:50<01:04,  1.97it/s]\u001b[A\n",
      " 44%|████▍     | 99/225 [00:51<01:03,  1.97it/s]\u001b[A\n",
      " 44%|████▍     | 100/225 [00:51<01:03,  1.97it/s]\u001b[A\n",
      " 45%|████▍     | 101/225 [00:52<01:03,  1.96it/s]\u001b[A\n",
      " 45%|████▌     | 102/225 [00:52<01:02,  1.97it/s]\u001b[A\n",
      " 46%|████▌     | 103/225 [00:53<01:03,  1.93it/s]\u001b[A\n",
      " 46%|████▌     | 104/225 [00:53<01:02,  1.95it/s]\u001b[A\n",
      " 47%|████▋     | 105/225 [00:54<01:01,  1.95it/s]\u001b[A\n",
      " 47%|████▋     | 106/225 [00:54<01:00,  1.95it/s]\u001b[A\n",
      " 48%|████▊     | 107/225 [00:55<01:00,  1.95it/s]\u001b[A\n",
      " 48%|████▊     | 108/225 [00:55<00:59,  1.96it/s]\u001b[A\n",
      " 48%|████▊     | 109/225 [00:56<00:58,  1.97it/s]\u001b[A\n",
      " 49%|████▉     | 110/225 [00:56<00:58,  1.97it/s]\u001b[A\n",
      " 49%|████▉     | 111/225 [00:57<00:57,  1.97it/s]\u001b[A\n",
      " 50%|████▉     | 112/225 [00:57<00:57,  1.97it/s]\u001b[A\n",
      " 50%|█████     | 113/225 [00:58<00:56,  1.97it/s]\u001b[A\n",
      " 51%|█████     | 114/225 [00:58<00:56,  1.96it/s]\u001b[A\n",
      " 51%|█████     | 115/225 [00:59<00:56,  1.96it/s]\u001b[A\n",
      " 52%|█████▏    | 116/225 [00:59<00:55,  1.96it/s]\u001b[A\n",
      " 52%|█████▏    | 117/225 [01:00<00:55,  1.96it/s]\u001b[A\n",
      " 52%|█████▏    | 118/225 [01:00<00:54,  1.95it/s]\u001b[A\n",
      " 53%|█████▎    | 119/225 [01:01<00:54,  1.96it/s]\u001b[A\n",
      " 53%|█████▎    | 120/225 [01:01<00:53,  1.96it/s]\u001b[A\n",
      " 54%|█████▍    | 121/225 [01:02<00:53,  1.95it/s]\u001b[A\n",
      " 54%|█████▍    | 122/225 [01:02<00:52,  1.96it/s]\u001b[A\n",
      " 55%|█████▍    | 123/225 [01:03<00:52,  1.96it/s]\u001b[A\n",
      " 55%|█████▌    | 124/225 [01:03<00:51,  1.97it/s]\u001b[A\n",
      " 56%|█████▌    | 125/225 [01:04<00:50,  1.96it/s]\u001b[A\n",
      " 56%|█████▌    | 126/225 [01:04<00:50,  1.96it/s]\u001b[A\n",
      " 56%|█████▋    | 127/225 [01:05<00:49,  1.97it/s]\u001b[A\n",
      " 57%|█████▋    | 128/225 [01:05<00:49,  1.96it/s]\u001b[A\n",
      " 57%|█████▋    | 129/225 [01:06<00:49,  1.96it/s]\u001b[A\n",
      " 58%|█████▊    | 130/225 [01:06<00:48,  1.97it/s]\u001b[A\n",
      " 58%|█████▊    | 131/225 [01:07<00:47,  1.96it/s]\u001b[A\n",
      " 59%|█████▊    | 132/225 [01:07<00:47,  1.95it/s]\u001b[A\n",
      " 59%|█████▉    | 133/225 [01:08<00:47,  1.95it/s]\u001b[A\n",
      " 60%|█████▉    | 134/225 [01:08<00:46,  1.95it/s]\u001b[A\n",
      " 60%|██████    | 135/225 [01:09<00:46,  1.94it/s]\u001b[A\n",
      " 60%|██████    | 136/225 [01:09<00:45,  1.95it/s]\u001b[A\n",
      " 61%|██████    | 137/225 [01:10<00:45,  1.94it/s]\u001b[A\n",
      " 61%|██████▏   | 138/225 [01:11<00:44,  1.95it/s]\u001b[A\n",
      " 62%|██████▏   | 139/225 [01:11<00:44,  1.94it/s]\u001b[A\n",
      " 62%|██████▏   | 140/225 [01:12<00:43,  1.95it/s]\u001b[A\n",
      " 63%|██████▎   | 141/225 [01:12<00:43,  1.95it/s]\u001b[A\n",
      " 63%|██████▎   | 142/225 [01:13<00:42,  1.95it/s]\u001b[A\n",
      " 64%|██████▎   | 143/225 [01:13<00:42,  1.95it/s]\u001b[A\n",
      " 64%|██████▍   | 144/225 [01:14<00:41,  1.95it/s]\u001b[A\n",
      " 64%|██████▍   | 145/225 [01:14<00:41,  1.94it/s]\u001b[A\n",
      " 65%|██████▍   | 146/225 [01:15<00:40,  1.93it/s]\u001b[A\n",
      " 65%|██████▌   | 147/225 [01:15<00:40,  1.93it/s]\u001b[A\n",
      " 66%|██████▌   | 148/225 [01:16<00:39,  1.93it/s]\u001b[A\n",
      " 66%|██████▌   | 149/225 [01:16<00:39,  1.93it/s]\u001b[A\n",
      " 67%|██████▋   | 150/225 [01:17<00:38,  1.93it/s]\u001b[A\n",
      " 67%|██████▋   | 151/225 [01:17<00:38,  1.93it/s]\u001b[A\n",
      " 68%|██████▊   | 152/225 [01:18<00:37,  1.94it/s]\u001b[A\n",
      " 68%|██████▊   | 153/225 [01:18<00:37,  1.94it/s]\u001b[A\n",
      " 68%|██████▊   | 154/225 [01:19<00:36,  1.94it/s]\u001b[A\n",
      " 69%|██████▉   | 155/225 [01:19<00:36,  1.94it/s]\u001b[A\n"
     ]
    },
    {
     "name": "stderr",
     "output_type": "stream",
     "text": [
      " 69%|██████▉   | 156/225 [01:20<00:35,  1.96it/s]\u001b[A\n",
      " 70%|██████▉   | 157/225 [01:20<00:34,  1.95it/s]\u001b[A\n",
      " 70%|███████   | 158/225 [01:21<00:34,  1.96it/s]\u001b[A\n",
      " 71%|███████   | 159/225 [01:21<00:33,  1.96it/s]\u001b[A\n",
      " 71%|███████   | 160/225 [01:22<00:32,  1.97it/s]\u001b[A\n",
      " 72%|███████▏  | 161/225 [01:22<00:32,  1.98it/s]\u001b[A\n",
      " 72%|███████▏  | 162/225 [01:23<00:31,  1.99it/s]\u001b[A\n",
      " 72%|███████▏  | 163/225 [01:23<00:31,  2.00it/s]\u001b[A\n",
      " 73%|███████▎  | 164/225 [01:24<00:30,  1.99it/s]\u001b[A\n",
      " 73%|███████▎  | 165/225 [01:24<00:30,  1.99it/s]\u001b[A\n",
      " 74%|███████▍  | 166/225 [01:25<00:29,  2.00it/s]\u001b[A\n",
      " 74%|███████▍  | 167/225 [01:25<00:28,  2.00it/s]\u001b[A\n",
      " 75%|███████▍  | 168/225 [01:26<00:28,  2.00it/s]\u001b[A\n",
      " 75%|███████▌  | 169/225 [01:26<00:27,  2.01it/s]\u001b[A\n",
      " 76%|███████▌  | 170/225 [01:27<00:27,  2.01it/s]\u001b[A\n",
      " 76%|███████▌  | 171/225 [01:27<00:26,  2.00it/s]\u001b[A\n",
      " 76%|███████▋  | 172/225 [01:28<00:26,  2.00it/s]\u001b[A\n",
      " 77%|███████▋  | 173/225 [01:28<00:26,  1.98it/s]\u001b[A\n",
      " 77%|███████▋  | 174/225 [01:29<00:25,  1.99it/s]\u001b[A\n",
      " 78%|███████▊  | 175/225 [01:29<00:25,  1.99it/s]\u001b[A\n",
      " 78%|███████▊  | 176/225 [01:30<00:24,  1.98it/s]\u001b[A\n",
      " 79%|███████▊  | 177/225 [01:30<00:24,  1.98it/s]\u001b[A\n",
      " 79%|███████▉  | 178/225 [01:31<00:23,  1.99it/s]\u001b[A\n",
      " 80%|███████▉  | 179/225 [01:31<00:23,  1.97it/s]\u001b[A\n",
      " 80%|████████  | 180/225 [01:32<00:23,  1.95it/s]\u001b[A\n",
      " 80%|████████  | 181/225 [01:32<00:22,  1.97it/s]\u001b[A\n",
      " 81%|████████  | 182/225 [01:33<00:21,  1.97it/s]\u001b[A\n",
      " 81%|████████▏ | 183/225 [01:33<00:21,  1.97it/s]\u001b[A\n",
      " 82%|████████▏ | 184/225 [01:34<00:20,  1.97it/s]\u001b[A\n",
      " 82%|████████▏ | 185/225 [01:34<00:20,  1.97it/s]\u001b[A\n",
      " 83%|████████▎ | 186/225 [01:35<00:19,  1.98it/s]\u001b[A\n",
      " 83%|████████▎ | 187/225 [01:35<00:19,  2.00it/s]\u001b[A\n",
      " 84%|████████▎ | 188/225 [01:36<00:18,  2.00it/s]\u001b[A\n",
      " 84%|████████▍ | 189/225 [01:36<00:17,  2.01it/s]\u001b[A\n",
      " 84%|████████▍ | 190/225 [01:37<00:17,  2.00it/s]\u001b[A\n",
      " 85%|████████▍ | 191/225 [01:37<00:17,  1.99it/s]\u001b[A\n",
      " 85%|████████▌ | 192/225 [01:38<00:16,  2.00it/s]\u001b[A\n",
      " 86%|████████▌ | 193/225 [01:38<00:15,  2.00it/s]\u001b[A\n",
      " 86%|████████▌ | 194/225 [01:39<00:15,  2.01it/s]\u001b[A\n",
      " 87%|████████▋ | 195/225 [01:39<00:14,  2.02it/s]\u001b[A\n",
      " 87%|████████▋ | 196/225 [01:40<00:14,  2.01it/s]\u001b[A\n",
      " 88%|████████▊ | 197/225 [01:40<00:13,  2.01it/s]\u001b[A\n",
      " 88%|████████▊ | 198/225 [01:41<00:13,  2.01it/s]\u001b[A\n",
      " 88%|████████▊ | 199/225 [01:41<00:12,  2.01it/s]\u001b[A\n",
      " 89%|████████▉ | 200/225 [01:42<00:12,  2.02it/s]\u001b[A\n",
      " 89%|████████▉ | 201/225 [01:42<00:11,  2.02it/s]\u001b[A\n",
      " 90%|████████▉ | 202/225 [01:43<00:11,  2.02it/s]\u001b[A\n",
      " 90%|█████████ | 203/225 [01:43<00:11,  1.99it/s]\u001b[A\n",
      " 91%|█████████ | 204/225 [01:44<00:10,  2.00it/s]\u001b[A\n",
      " 91%|█████████ | 205/225 [01:44<00:09,  2.00it/s]\u001b[A\n",
      " 92%|█████████▏| 206/225 [01:45<00:09,  2.00it/s]\u001b[A\n",
      " 92%|█████████▏| 207/225 [01:45<00:08,  2.01it/s]\u001b[A\n",
      " 92%|█████████▏| 208/225 [01:46<00:08,  2.00it/s]\u001b[A\n",
      " 93%|█████████▎| 209/225 [01:46<00:08,  1.99it/s]\u001b[A\n",
      " 93%|█████████▎| 210/225 [01:47<00:07,  1.99it/s]\u001b[A\n",
      " 94%|█████████▍| 211/225 [01:47<00:06,  2.00it/s]\u001b[A\n",
      " 94%|█████████▍| 212/225 [01:48<00:06,  2.00it/s]\u001b[A\n",
      " 95%|█████████▍| 213/225 [01:48<00:05,  2.00it/s]\u001b[A\n",
      " 95%|█████████▌| 214/225 [01:49<00:05,  2.01it/s]\u001b[A\n",
      " 96%|█████████▌| 215/225 [01:49<00:04,  2.00it/s]\u001b[A\n",
      " 96%|█████████▌| 216/225 [01:50<00:04,  2.00it/s]\u001b[A\n",
      " 96%|█████████▋| 217/225 [01:50<00:03,  2.01it/s]\u001b[A\n",
      " 97%|█████████▋| 218/225 [01:51<00:03,  2.01it/s]\u001b[A\n",
      " 97%|█████████▋| 219/225 [01:51<00:03,  2.00it/s]\u001b[A\n",
      " 98%|█████████▊| 220/225 [01:52<00:02,  2.00it/s]\u001b[A\n",
      " 98%|█████████▊| 221/225 [01:52<00:01,  2.00it/s]\u001b[A\n",
      " 99%|█████████▊| 222/225 [01:53<00:01,  2.00it/s]\u001b[A\n",
      " 99%|█████████▉| 223/225 [01:53<00:01,  2.00it/s]\u001b[A\n",
      "100%|█████████▉| 224/225 [01:54<00:00,  2.00it/s]\u001b[A\n",
      "100%|██████████| 225/225 [01:54<00:00,  1.96it/s]\u001b[A\n",
      "\n",
      "  0%|          | 0/225 [00:00<?, ?it/s]\u001b[A\n",
      "  0%|          | 1/225 [00:00<01:58,  1.90it/s]\u001b[A\n",
      "  1%|          | 2/225 [00:01<01:55,  1.92it/s]\u001b[A\n",
      "  1%|▏         | 3/225 [00:01<01:53,  1.95it/s]\u001b[A\n",
      "  2%|▏         | 4/225 [00:02<01:52,  1.96it/s]\u001b[A\n",
      "  2%|▏         | 5/225 [00:02<01:51,  1.97it/s]\u001b[A\n",
      "  3%|▎         | 6/225 [00:03<01:50,  1.97it/s]\u001b[A\n",
      "  3%|▎         | 7/225 [00:03<01:49,  1.98it/s]\u001b[A\n",
      "  4%|▎         | 8/225 [00:04<01:49,  1.99it/s]\u001b[A\n",
      "  4%|▍         | 9/225 [00:04<01:48,  2.00it/s]\u001b[A\n",
      "  4%|▍         | 10/225 [00:05<01:48,  1.99it/s]\u001b[A\n",
      "  5%|▍         | 11/225 [00:05<01:47,  2.00it/s]\u001b[A\n",
      "  5%|▌         | 12/225 [00:06<01:46,  2.00it/s]\u001b[A\n",
      "  6%|▌         | 13/225 [00:06<01:45,  2.01it/s]\u001b[A\n",
      "  6%|▌         | 14/225 [00:07<01:45,  2.00it/s]\u001b[A\n",
      "  7%|▋         | 15/225 [00:07<01:45,  1.99it/s]\u001b[A\n",
      "  7%|▋         | 16/225 [00:08<01:44,  2.00it/s]\u001b[A\n",
      "  8%|▊         | 17/225 [00:08<01:44,  1.99it/s]\u001b[A\n",
      "  8%|▊         | 18/225 [00:09<01:43,  2.01it/s]\u001b[A\n",
      "  8%|▊         | 19/225 [00:09<01:43,  1.99it/s]\u001b[A\n",
      "  9%|▉         | 20/225 [00:10<01:42,  1.99it/s]\u001b[A\n",
      "  9%|▉         | 21/225 [00:10<01:42,  1.99it/s]\u001b[A\n",
      " 10%|▉         | 22/225 [00:11<01:42,  1.99it/s]\u001b[A\n",
      " 10%|█         | 23/225 [00:11<01:41,  2.00it/s]\u001b[A\n",
      " 11%|█         | 24/225 [00:12<01:41,  1.99it/s]\u001b[A\n",
      " 11%|█         | 25/225 [00:12<01:40,  1.99it/s]\u001b[A\n",
      " 12%|█▏        | 26/225 [00:13<01:40,  1.98it/s]\u001b[A\n",
      " 12%|█▏        | 27/225 [00:13<01:39,  1.98it/s]\u001b[A\n",
      " 12%|█▏        | 28/225 [00:14<01:39,  1.99it/s]\u001b[A\n",
      " 13%|█▎        | 29/225 [00:14<01:38,  1.99it/s]\u001b[A\n",
      " 13%|█▎        | 30/225 [00:15<01:37,  2.00it/s]\u001b[A\n",
      " 14%|█▍        | 31/225 [00:15<01:36,  2.01it/s]\u001b[A\n",
      " 14%|█▍        | 32/225 [00:16<01:36,  2.01it/s]\u001b[A\n",
      " 15%|█▍        | 33/225 [00:16<01:35,  2.01it/s]\u001b[A\n",
      " 15%|█▌        | 34/225 [00:17<01:35,  2.01it/s]\u001b[A\n",
      " 16%|█▌        | 35/225 [00:17<01:34,  2.01it/s]\u001b[A\n",
      " 16%|█▌        | 36/225 [00:18<01:33,  2.02it/s]\u001b[A\n",
      " 16%|█▋        | 37/225 [00:18<01:33,  2.01it/s]\u001b[A\n",
      " 17%|█▋        | 38/225 [00:19<01:32,  2.01it/s]\u001b[A\n",
      " 17%|█▋        | 39/225 [00:19<01:32,  2.01it/s]\u001b[A\n",
      " 18%|█▊        | 40/225 [00:20<01:32,  2.01it/s]\u001b[A\n",
      " 18%|█▊        | 41/225 [00:20<01:32,  1.99it/s]\u001b[A\n",
      " 19%|█▊        | 42/225 [00:21<01:31,  2.00it/s]\u001b[A\n",
      " 19%|█▉        | 43/225 [00:21<01:30,  2.00it/s]\u001b[A\n",
      " 20%|█▉        | 44/225 [00:22<01:29,  2.01it/s]\u001b[A\n",
      " 20%|██        | 45/225 [00:22<01:30,  2.00it/s]\u001b[A\n",
      " 20%|██        | 46/225 [00:23<01:29,  1.99it/s]\u001b[A\n",
      " 21%|██        | 47/225 [00:23<01:29,  1.99it/s]\u001b[A\n",
      " 21%|██▏       | 48/225 [00:24<01:28,  1.99it/s]\u001b[A\n",
      " 22%|██▏       | 49/225 [00:24<01:28,  1.99it/s]\u001b[A\n",
      " 22%|██▏       | 50/225 [00:25<01:27,  1.99it/s]\u001b[A\n",
      " 23%|██▎       | 51/225 [00:25<01:27,  2.00it/s]\u001b[A\n",
      " 23%|██▎       | 52/225 [00:26<01:26,  2.00it/s]\u001b[A\n",
      " 24%|██▎       | 53/225 [00:26<01:25,  2.01it/s]\u001b[A\n",
      " 24%|██▍       | 54/225 [00:27<01:25,  1.99it/s]\u001b[A\n",
      " 24%|██▍       | 55/225 [00:27<01:25,  2.00it/s]\u001b[A\n",
      " 25%|██▍       | 56/225 [00:28<01:24,  2.00it/s]\u001b[A\n",
      " 25%|██▌       | 57/225 [00:28<01:24,  1.99it/s]\u001b[A\n",
      " 26%|██▌       | 58/225 [00:29<01:23,  1.99it/s]\u001b[A\n",
      " 26%|██▌       | 59/225 [00:29<01:23,  1.99it/s]\u001b[A\n",
      " 27%|██▋       | 60/225 [00:30<01:23,  1.98it/s]\u001b[A\n",
      " 27%|██▋       | 61/225 [00:30<01:22,  1.99it/s]\u001b[A\n",
      " 28%|██▊       | 62/225 [00:31<01:21,  2.00it/s]\u001b[A\n",
      " 28%|██▊       | 63/225 [00:31<01:21,  2.00it/s]\u001b[A\n",
      " 28%|██▊       | 64/225 [00:32<01:20,  2.00it/s]\u001b[A\n",
      " 29%|██▉       | 65/225 [00:32<01:20,  1.99it/s]\u001b[A\n",
      " 29%|██▉       | 66/225 [00:33<01:19,  1.99it/s]\u001b[A\n",
      " 30%|██▉       | 67/225 [00:33<01:19,  2.00it/s]\u001b[A\n",
      " 30%|███       | 68/225 [00:34<01:18,  2.01it/s]\u001b[A\n",
      " 31%|███       | 69/225 [00:34<01:18,  2.00it/s]\u001b[A\n",
      " 31%|███       | 70/225 [00:35<01:17,  1.99it/s]\u001b[A\n",
      " 32%|███▏      | 71/225 [00:35<01:17,  1.99it/s]\u001b[A\n",
      " 32%|███▏      | 72/225 [00:36<01:16,  1.99it/s]\u001b[A\n",
      " 32%|███▏      | 73/225 [00:36<01:16,  2.00it/s]\u001b[A\n",
      " 33%|███▎      | 74/225 [00:37<01:15,  2.00it/s]\u001b[A\n",
      " 33%|███▎      | 75/225 [00:37<01:15,  1.99it/s]\u001b[A\n",
      " 34%|███▍      | 76/225 [00:38<01:14,  2.00it/s]\u001b[A\n",
      " 34%|███▍      | 77/225 [00:38<01:13,  2.01it/s]\u001b[A\n",
      " 35%|███▍      | 78/225 [00:39<01:13,  2.01it/s]\u001b[A\n",
      " 35%|███▌      | 79/225 [00:39<01:12,  2.02it/s]\u001b[A\n",
      " 36%|███▌      | 80/225 [00:40<01:12,  2.01it/s]\u001b[A\n",
      " 36%|███▌      | 81/225 [00:40<01:11,  2.00it/s]\u001b[A\n",
      " 36%|███▋      | 82/225 [00:41<01:11,  2.00it/s]\u001b[A\n",
      " 37%|███▋      | 83/225 [00:41<01:11,  2.00it/s]\u001b[A\n",
      " 37%|███▋      | 84/225 [00:42<01:10,  1.99it/s]\u001b[A\n",
      " 38%|███▊      | 85/225 [00:42<01:10,  2.00it/s]\u001b[A\n"
     ]
    },
    {
     "name": "stderr",
     "output_type": "stream",
     "text": [
      " 38%|███▊      | 86/225 [00:43<01:09,  1.99it/s]\u001b[A\n",
      " 39%|███▊      | 87/225 [00:43<01:09,  1.98it/s]\u001b[A\n",
      " 39%|███▉      | 88/225 [00:44<01:09,  1.98it/s]\u001b[A\n",
      " 40%|███▉      | 89/225 [00:44<01:09,  1.97it/s]\u001b[A\n",
      " 40%|████      | 90/225 [00:45<01:08,  1.98it/s]\u001b[A\n",
      " 40%|████      | 91/225 [00:45<01:07,  1.99it/s]\u001b[A\n",
      " 41%|████      | 92/225 [00:46<01:06,  1.99it/s]\u001b[A\n",
      " 41%|████▏     | 93/225 [00:46<01:06,  1.97it/s]\u001b[A\n",
      " 42%|████▏     | 94/225 [00:47<01:06,  1.98it/s]\u001b[A\n",
      " 42%|████▏     | 95/225 [00:47<01:05,  1.99it/s]\u001b[A\n",
      " 43%|████▎     | 96/225 [00:48<01:04,  1.99it/s]\u001b[A\n",
      " 43%|████▎     | 97/225 [00:48<01:04,  2.00it/s]\u001b[A\n",
      " 44%|████▎     | 98/225 [00:49<01:03,  1.99it/s]\u001b[A\n",
      " 44%|████▍     | 99/225 [00:49<01:03,  1.99it/s]\u001b[A\n",
      " 44%|████▍     | 100/225 [00:50<01:02,  1.99it/s]\u001b[A\n",
      " 45%|████▍     | 101/225 [00:50<01:02,  1.99it/s]\u001b[A\n",
      " 45%|████▌     | 102/225 [00:51<01:01,  1.99it/s]\u001b[A\n",
      " 46%|████▌     | 103/225 [00:51<01:01,  1.97it/s]\u001b[A\n",
      " 46%|████▌     | 104/225 [00:52<01:01,  1.98it/s]\u001b[A\n",
      " 47%|████▋     | 105/225 [00:52<01:00,  1.99it/s]\u001b[A\n",
      " 47%|████▋     | 106/225 [00:53<00:59,  2.00it/s]\u001b[A\n",
      " 48%|████▊     | 107/225 [00:53<00:58,  2.01it/s]\u001b[A\n",
      " 48%|████▊     | 108/225 [00:54<00:58,  2.00it/s]\u001b[A\n",
      " 48%|████▊     | 109/225 [00:54<00:57,  2.00it/s]\u001b[A\n",
      " 49%|████▉     | 110/225 [00:55<00:57,  2.00it/s]\u001b[A\n",
      " 49%|████▉     | 111/225 [00:55<00:56,  2.00it/s]\u001b[A\n",
      " 50%|████▉     | 112/225 [00:56<00:56,  2.00it/s]\u001b[A\n",
      " 50%|█████     | 113/225 [00:56<00:55,  2.01it/s]\u001b[A\n",
      " 51%|█████     | 114/225 [00:57<00:55,  2.01it/s]\u001b[A\n",
      " 51%|█████     | 115/225 [00:57<00:54,  2.00it/s]\u001b[A\n",
      " 52%|█████▏    | 116/225 [00:58<00:54,  2.00it/s]\u001b[A\n",
      " 52%|█████▏    | 117/225 [00:58<00:53,  2.01it/s]\u001b[A\n",
      " 52%|█████▏    | 118/225 [00:59<00:53,  2.01it/s]\u001b[A\n",
      " 53%|█████▎    | 119/225 [00:59<00:52,  2.01it/s]\u001b[A\n",
      " 53%|█████▎    | 120/225 [01:00<00:51,  2.02it/s]\u001b[A\n",
      " 54%|█████▍    | 121/225 [01:00<00:51,  2.02it/s]\u001b[A\n",
      " 54%|█████▍    | 122/225 [01:01<00:52,  1.97it/s]\u001b[A\n",
      " 55%|█████▍    | 123/225 [01:01<00:51,  1.98it/s]\u001b[A\n",
      " 55%|█████▌    | 124/225 [01:02<00:50,  1.99it/s]\u001b[A\n",
      " 56%|█████▌    | 125/225 [01:02<00:49,  2.00it/s]\u001b[A\n",
      " 56%|█████▌    | 126/225 [01:03<00:49,  1.99it/s]\u001b[A\n",
      " 56%|█████▋    | 127/225 [01:03<00:48,  2.00it/s]\u001b[A\n",
      " 57%|█████▋    | 128/225 [01:04<00:48,  1.99it/s]\u001b[A\n",
      " 57%|█████▋    | 129/225 [01:04<00:47,  2.01it/s]\u001b[A\n",
      " 58%|█████▊    | 130/225 [01:05<00:47,  2.01it/s]\u001b[A\n",
      " 58%|█████▊    | 131/225 [01:05<00:46,  2.02it/s]\u001b[A\n",
      " 59%|█████▊    | 132/225 [01:06<00:46,  2.01it/s]\u001b[A\n",
      " 59%|█████▉    | 133/225 [01:06<00:45,  2.01it/s]\u001b[A\n",
      " 60%|█████▉    | 134/225 [01:07<00:45,  2.01it/s]\u001b[A\n",
      " 60%|██████    | 135/225 [01:07<00:44,  2.01it/s]\u001b[A\n",
      " 60%|██████    | 136/225 [01:08<00:44,  2.00it/s]\u001b[A\n",
      " 61%|██████    | 137/225 [01:08<00:43,  2.01it/s]\u001b[A\n",
      " 61%|██████▏   | 138/225 [01:09<00:43,  2.00it/s]\u001b[A\n",
      " 62%|██████▏   | 139/225 [01:09<00:42,  2.00it/s]\u001b[A\n",
      " 62%|██████▏   | 140/225 [01:10<00:42,  1.99it/s]\u001b[A\n",
      " 63%|██████▎   | 141/225 [01:10<00:42,  2.00it/s]\u001b[A\n",
      " 63%|██████▎   | 142/225 [01:11<00:41,  2.00it/s]\u001b[A\n",
      " 64%|██████▎   | 143/225 [01:11<00:41,  1.99it/s]\u001b[A\n",
      " 64%|██████▍   | 144/225 [01:12<00:40,  2.00it/s]\u001b[A\n",
      " 64%|██████▍   | 145/225 [01:12<00:40,  2.00it/s]\u001b[A\n",
      " 65%|██████▍   | 146/225 [01:13<00:39,  1.99it/s]\u001b[A\n",
      " 65%|██████▌   | 147/225 [01:13<00:39,  1.99it/s]\u001b[A\n",
      " 66%|██████▌   | 148/225 [01:14<00:38,  1.99it/s]\u001b[A\n",
      " 66%|██████▌   | 149/225 [01:14<00:38,  1.99it/s]\u001b[A\n",
      " 67%|██████▋   | 150/225 [01:15<00:37,  1.99it/s]\u001b[A\n",
      " 67%|██████▋   | 151/225 [01:15<00:36,  2.00it/s]\u001b[A\n",
      " 68%|██████▊   | 152/225 [01:16<00:36,  2.00it/s]\u001b[A\n",
      " 68%|██████▊   | 153/225 [01:16<00:35,  2.01it/s]\u001b[A\n",
      " 68%|██████▊   | 154/225 [01:17<00:35,  2.01it/s]\u001b[A\n",
      " 69%|██████▉   | 155/225 [01:17<00:35,  2.00it/s]\u001b[A\n",
      " 69%|██████▉   | 156/225 [01:18<00:34,  2.01it/s]\u001b[A\n",
      " 70%|██████▉   | 157/225 [01:18<00:34,  2.00it/s]\u001b[A\n",
      " 70%|███████   | 158/225 [01:19<00:33,  2.00it/s]\u001b[A\n",
      " 71%|███████   | 159/225 [01:19<00:32,  2.00it/s]\u001b[A\n",
      " 71%|███████   | 160/225 [01:20<00:32,  2.00it/s]\u001b[A\n",
      " 72%|███████▏  | 161/225 [01:20<00:32,  1.99it/s]\u001b[A\n",
      " 72%|███████▏  | 162/225 [01:21<00:31,  1.99it/s]\u001b[A\n",
      " 72%|███████▏  | 163/225 [01:21<00:31,  1.98it/s]\u001b[A\n",
      " 73%|███████▎  | 164/225 [01:22<00:30,  1.99it/s]\u001b[A\n",
      " 73%|███████▎  | 165/225 [01:22<00:30,  1.99it/s]\u001b[A\n",
      " 74%|███████▍  | 166/225 [01:23<00:29,  1.98it/s]\u001b[A\n",
      " 74%|███████▍  | 167/225 [01:23<00:29,  1.98it/s]\u001b[A\n",
      " 75%|███████▍  | 168/225 [01:24<00:28,  1.98it/s]\u001b[A\n",
      " 75%|███████▌  | 169/225 [01:24<00:28,  1.95it/s]\u001b[A\n",
      " 76%|███████▌  | 170/225 [01:25<00:27,  1.96it/s]\u001b[A\n",
      " 76%|███████▌  | 171/225 [01:25<00:27,  1.96it/s]\u001b[A\n",
      " 76%|███████▋  | 172/225 [01:26<00:26,  1.98it/s]\u001b[A\n",
      " 77%|███████▋  | 173/225 [01:26<00:26,  1.99it/s]\u001b[A\n",
      " 77%|███████▋  | 174/225 [01:27<00:25,  2.00it/s]\u001b[A\n",
      " 78%|███████▊  | 175/225 [01:27<00:25,  1.98it/s]\u001b[A\n",
      " 78%|███████▊  | 176/225 [01:28<00:26,  1.88it/s]\u001b[A\n",
      " 79%|███████▊  | 177/225 [01:28<00:26,  1.82it/s]\u001b[A\n",
      " 79%|███████▉  | 178/225 [01:29<00:25,  1.83it/s]\u001b[A\n",
      " 80%|███████▉  | 179/225 [01:30<00:26,  1.75it/s]\u001b[A\n",
      " 80%|████████  | 180/225 [01:30<00:26,  1.70it/s]\u001b[A\n",
      " 80%|████████  | 181/225 [01:31<00:25,  1.72it/s]\u001b[A\n",
      " 81%|████████  | 182/225 [01:31<00:24,  1.74it/s]\u001b[A\n",
      " 81%|████████▏ | 183/225 [01:32<00:24,  1.70it/s]\u001b[A\n",
      " 82%|████████▏ | 184/225 [01:33<00:25,  1.62it/s]\u001b[A\n",
      " 82%|████████▏ | 185/225 [01:33<00:25,  1.59it/s]\u001b[A\n",
      " 83%|████████▎ | 186/225 [01:34<00:24,  1.60it/s]\u001b[A\n",
      " 83%|████████▎ | 187/225 [01:34<00:22,  1.69it/s]\u001b[A\n",
      " 84%|████████▎ | 188/225 [01:35<00:21,  1.75it/s]\u001b[A\n",
      " 84%|████████▍ | 189/225 [01:35<00:20,  1.78it/s]\u001b[A\n",
      " 84%|████████▍ | 190/225 [01:36<00:19,  1.81it/s]\u001b[A\n",
      " 85%|████████▍ | 191/225 [01:37<00:18,  1.81it/s]\u001b[A\n",
      " 85%|████████▌ | 192/225 [01:37<00:17,  1.85it/s]\u001b[A\n",
      " 86%|████████▌ | 193/225 [01:38<00:16,  1.89it/s]\u001b[A\n",
      " 86%|████████▌ | 194/225 [01:38<00:16,  1.92it/s]\u001b[A\n",
      " 87%|████████▋ | 195/225 [01:39<00:15,  1.93it/s]\u001b[A\n",
      " 87%|████████▋ | 196/225 [01:39<00:15,  1.92it/s]\u001b[A\n",
      " 88%|████████▊ | 197/225 [01:40<00:14,  1.88it/s]\u001b[A\n",
      " 88%|████████▊ | 198/225 [01:40<00:14,  1.84it/s]\u001b[A\n",
      " 88%|████████▊ | 199/225 [01:41<00:15,  1.63it/s]\u001b[A\n",
      " 89%|████████▉ | 200/225 [01:42<00:15,  1.65it/s]\u001b[A\n",
      " 89%|████████▉ | 201/225 [01:42<00:14,  1.71it/s]\u001b[A\n",
      " 90%|████████▉ | 202/225 [01:43<00:14,  1.55it/s]\u001b[A\n",
      " 90%|█████████ | 203/225 [01:44<00:14,  1.50it/s]\u001b[A\n",
      " 91%|█████████ | 204/225 [01:44<00:13,  1.51it/s]\u001b[A\n",
      " 91%|█████████ | 205/225 [01:45<00:12,  1.59it/s]\u001b[A\n",
      " 92%|█████████▏| 206/225 [01:45<00:11,  1.66it/s]\u001b[A\n",
      " 92%|█████████▏| 207/225 [01:46<00:10,  1.72it/s]\u001b[A\n",
      " 92%|█████████▏| 208/225 [01:46<00:09,  1.78it/s]\u001b[A\n",
      " 93%|█████████▎| 209/225 [01:47<00:08,  1.82it/s]\u001b[A\n",
      " 93%|█████████▎| 210/225 [01:47<00:08,  1.87it/s]\u001b[A\n",
      " 94%|█████████▍| 211/225 [01:48<00:07,  1.88it/s]\u001b[A\n",
      " 94%|█████████▍| 212/225 [01:48<00:06,  1.90it/s]\u001b[A\n",
      " 95%|█████████▍| 213/225 [01:49<00:06,  1.92it/s]\u001b[A\n",
      " 95%|█████████▌| 214/225 [01:50<00:05,  1.90it/s]\u001b[A\n",
      " 96%|█████████▌| 215/225 [01:50<00:05,  1.93it/s]\u001b[A\n",
      " 96%|█████████▌| 216/225 [01:51<00:04,  1.92it/s]\u001b[A\n",
      " 96%|█████████▋| 217/225 [01:51<00:04,  1.93it/s]\u001b[A\n",
      " 97%|█████████▋| 218/225 [01:52<00:03,  1.93it/s]\u001b[A\n",
      " 97%|█████████▋| 219/225 [01:52<00:03,  1.93it/s]\u001b[A\n",
      " 98%|█████████▊| 220/225 [01:53<00:02,  1.92it/s]\u001b[A\n",
      " 98%|█████████▊| 221/225 [01:53<00:02,  1.92it/s]\u001b[A\n",
      " 99%|█████████▊| 222/225 [01:54<00:01,  1.93it/s]\u001b[A\n",
      " 99%|█████████▉| 223/225 [01:54<00:01,  1.94it/s]\u001b[A\n",
      "100%|█████████▉| 224/225 [01:55<00:00,  1.93it/s]\u001b[A\n",
      "100%|██████████| 225/225 [01:55<00:00,  1.95it/s]\u001b[A\n",
      "\n",
      "  0%|          | 0/225 [00:00<?, ?it/s]\u001b[A\n",
      "  0%|          | 1/225 [00:00<02:03,  1.81it/s]\u001b[A\n",
      "  1%|          | 2/225 [00:01<02:02,  1.82it/s]\u001b[A\n",
      "  1%|▏         | 3/225 [00:01<02:02,  1.81it/s]\u001b[A\n",
      "  2%|▏         | 4/225 [00:02<02:07,  1.74it/s]\u001b[A\n",
      "  2%|▏         | 5/225 [00:03<02:20,  1.57it/s]\u001b[A\n",
      "  3%|▎         | 6/225 [00:03<02:12,  1.66it/s]\u001b[A\n",
      "  3%|▎         | 7/225 [00:04<02:06,  1.73it/s]\u001b[A\n",
      "  4%|▎         | 8/225 [00:04<02:01,  1.79it/s]\u001b[A\n",
      "  4%|▍         | 9/225 [00:05<01:58,  1.83it/s]\u001b[A\n",
      "  4%|▍         | 10/225 [00:05<01:55,  1.86it/s]\u001b[A\n",
      "  5%|▍         | 11/225 [00:06<01:53,  1.88it/s]\u001b[A\n",
      "  5%|▌         | 12/225 [00:06<01:52,  1.89it/s]\u001b[A\n",
      "  6%|▌         | 13/225 [00:07<01:51,  1.89it/s]\u001b[A\n",
      "  6%|▌         | 14/225 [00:07<01:52,  1.88it/s]\u001b[A\n"
     ]
    },
    {
     "name": "stderr",
     "output_type": "stream",
     "text": [
      "  7%|▋         | 15/225 [00:08<01:50,  1.90it/s]\u001b[A\n",
      "  7%|▋         | 16/225 [00:08<01:49,  1.90it/s]\u001b[A\n",
      "  8%|▊         | 17/225 [00:09<01:48,  1.91it/s]\u001b[A\n",
      "  8%|▊         | 18/225 [00:09<01:46,  1.93it/s]\u001b[A\n",
      "  8%|▊         | 19/225 [00:10<01:46,  1.94it/s]\u001b[A\n",
      "  9%|▉         | 20/225 [00:10<01:45,  1.94it/s]\u001b[A\n",
      "  9%|▉         | 21/225 [00:11<01:44,  1.95it/s]\u001b[A\n",
      " 10%|▉         | 22/225 [00:11<01:44,  1.94it/s]\u001b[A\n",
      " 10%|█         | 23/225 [00:12<01:43,  1.94it/s]\u001b[A\n",
      " 11%|█         | 24/225 [00:12<01:43,  1.95it/s]\u001b[A\n",
      " 11%|█         | 25/225 [00:13<01:42,  1.95it/s]\u001b[A\n",
      " 12%|█▏        | 26/225 [00:13<01:42,  1.93it/s]\u001b[A\n",
      " 12%|█▏        | 27/225 [00:14<01:42,  1.94it/s]\u001b[A\n",
      " 12%|█▏        | 28/225 [00:14<01:41,  1.94it/s]\u001b[A\n",
      " 13%|█▎        | 29/225 [00:15<01:40,  1.94it/s]\u001b[A\n",
      " 13%|█▎        | 30/225 [00:15<01:40,  1.95it/s]\u001b[A\n",
      " 14%|█▍        | 31/225 [00:16<01:39,  1.95it/s]\u001b[A\n",
      " 14%|█▍        | 32/225 [00:17<01:38,  1.96it/s]\u001b[A\n",
      " 15%|█▍        | 33/225 [00:17<01:38,  1.96it/s]\u001b[A\n",
      " 15%|█▌        | 34/225 [00:18<01:37,  1.95it/s]\u001b[A\n",
      " 16%|█▌        | 35/225 [00:18<01:37,  1.96it/s]\u001b[A\n",
      " 16%|█▌        | 36/225 [00:19<01:36,  1.96it/s]\u001b[A\n",
      " 16%|█▋        | 37/225 [00:19<01:36,  1.95it/s]\u001b[A\n",
      " 17%|█▋        | 38/225 [00:20<01:35,  1.95it/s]\u001b[A\n",
      " 17%|█▋        | 39/225 [00:20<01:34,  1.96it/s]\u001b[A\n",
      " 18%|█▊        | 40/225 [00:21<01:34,  1.96it/s]\u001b[A\n",
      " 18%|█▊        | 41/225 [00:21<01:34,  1.95it/s]\u001b[A\n",
      " 19%|█▊        | 42/225 [00:22<01:33,  1.95it/s]\u001b[A\n",
      " 19%|█▉        | 43/225 [00:22<01:32,  1.96it/s]\u001b[A\n",
      " 20%|█▉        | 44/225 [00:23<01:32,  1.96it/s]\u001b[A\n",
      " 20%|██        | 45/225 [00:23<01:31,  1.96it/s]\u001b[A\n",
      " 20%|██        | 46/225 [00:24<01:31,  1.95it/s]\u001b[A\n",
      " 21%|██        | 47/225 [00:24<01:31,  1.95it/s]\u001b[A\n",
      " 21%|██▏       | 48/225 [00:25<01:30,  1.95it/s]\u001b[A\n",
      " 22%|██▏       | 49/225 [00:25<01:30,  1.95it/s]\u001b[A\n",
      " 22%|██▏       | 50/225 [00:26<01:29,  1.96it/s]\u001b[A\n",
      " 23%|██▎       | 51/225 [00:26<01:28,  1.96it/s]\u001b[A\n",
      " 23%|██▎       | 52/225 [00:27<01:28,  1.96it/s]\u001b[A\n",
      " 24%|██▎       | 53/225 [00:27<01:28,  1.95it/s]\u001b[A\n",
      " 24%|██▍       | 54/225 [00:28<01:27,  1.95it/s]\u001b[A\n",
      " 24%|██▍       | 55/225 [00:28<01:27,  1.94it/s]\u001b[A\n",
      " 25%|██▍       | 56/225 [00:29<01:27,  1.94it/s]\u001b[A\n",
      " 25%|██▌       | 57/225 [00:29<01:25,  1.95it/s]\u001b[A\n",
      " 26%|██▌       | 58/225 [00:30<01:25,  1.96it/s]\u001b[A\n",
      " 26%|██▌       | 59/225 [00:30<01:24,  1.95it/s]\u001b[A\n",
      " 27%|██▋       | 60/225 [00:31<01:24,  1.95it/s]\u001b[A\n",
      " 27%|██▋       | 61/225 [00:31<01:24,  1.94it/s]\u001b[A\n",
      " 28%|██▊       | 62/225 [00:32<01:24,  1.93it/s]\u001b[A\n",
      " 28%|██▊       | 63/225 [00:32<01:23,  1.93it/s]\u001b[A\n",
      " 28%|██▊       | 64/225 [00:33<01:23,  1.94it/s]\u001b[A\n",
      " 29%|██▉       | 65/225 [00:33<01:22,  1.93it/s]\u001b[A\n",
      " 29%|██▉       | 66/225 [00:34<01:22,  1.92it/s]\u001b[A\n",
      " 30%|██▉       | 67/225 [00:34<01:21,  1.93it/s]\u001b[A\n",
      " 30%|███       | 68/225 [00:35<01:21,  1.94it/s]\u001b[A\n",
      " 31%|███       | 69/225 [00:36<01:20,  1.93it/s]\u001b[A\n",
      " 31%|███       | 70/225 [00:36<01:20,  1.92it/s]\u001b[A\n",
      " 32%|███▏      | 71/225 [00:37<01:19,  1.93it/s]\u001b[A\n",
      " 32%|███▏      | 72/225 [00:37<01:19,  1.93it/s]\u001b[A\n",
      " 32%|███▏      | 73/225 [00:38<01:18,  1.93it/s]\u001b[A\n",
      " 33%|███▎      | 74/225 [00:38<01:18,  1.93it/s]\u001b[A\n",
      " 33%|███▎      | 75/225 [00:39<01:17,  1.94it/s]\u001b[A\n",
      " 34%|███▍      | 76/225 [00:39<01:16,  1.94it/s]\u001b[A\n",
      " 34%|███▍      | 77/225 [00:40<01:16,  1.94it/s]\u001b[A\n",
      " 35%|███▍      | 78/225 [00:40<01:15,  1.95it/s]\u001b[A\n",
      " 35%|███▌      | 79/225 [00:41<01:15,  1.94it/s]\u001b[A\n",
      " 36%|███▌      | 80/225 [00:41<01:15,  1.92it/s]\u001b[A\n",
      " 36%|███▌      | 81/225 [00:42<01:14,  1.92it/s]\u001b[A\n",
      " 36%|███▋      | 82/225 [00:42<01:14,  1.93it/s]\u001b[A\n",
      " 37%|███▋      | 83/225 [00:43<01:13,  1.93it/s]\u001b[A\n",
      " 37%|███▋      | 84/225 [00:43<01:13,  1.92it/s]\u001b[A\n",
      " 38%|███▊      | 85/225 [00:44<01:12,  1.92it/s]\u001b[A\n",
      " 38%|███▊      | 86/225 [00:44<01:12,  1.93it/s]\u001b[A\n",
      " 39%|███▊      | 87/225 [00:45<01:11,  1.93it/s]\u001b[A\n",
      " 39%|███▉      | 88/225 [00:45<01:10,  1.94it/s]\u001b[A\n",
      " 40%|███▉      | 89/225 [00:46<01:10,  1.93it/s]\u001b[A\n",
      " 40%|████      | 90/225 [00:46<01:10,  1.92it/s]\u001b[A\n",
      " 40%|████      | 91/225 [00:47<01:09,  1.93it/s]\u001b[A\n",
      " 41%|████      | 92/225 [00:47<01:09,  1.92it/s]\u001b[A\n",
      " 41%|████▏     | 93/225 [00:48<01:08,  1.92it/s]\u001b[A\n",
      " 42%|████▏     | 94/225 [00:49<01:09,  1.89it/s]\u001b[A\n",
      " 42%|████▏     | 95/225 [00:49<01:08,  1.89it/s]\u001b[A\n",
      " 43%|████▎     | 96/225 [00:50<01:07,  1.91it/s]\u001b[A\n",
      " 43%|████▎     | 97/225 [00:50<01:06,  1.92it/s]\u001b[A\n",
      " 44%|████▎     | 98/225 [00:51<01:06,  1.91it/s]\u001b[A\n",
      " 44%|████▍     | 99/225 [00:51<01:05,  1.92it/s]\u001b[A\n",
      " 44%|████▍     | 100/225 [00:52<01:05,  1.91it/s]\u001b[A\n",
      " 45%|████▍     | 101/225 [00:52<01:04,  1.92it/s]\u001b[A\n",
      " 45%|████▌     | 102/225 [00:53<01:03,  1.92it/s]\u001b[A\n",
      " 46%|████▌     | 103/225 [00:53<01:03,  1.93it/s]\u001b[A\n",
      " 46%|████▌     | 104/225 [00:54<01:02,  1.92it/s]\u001b[A\n",
      " 47%|████▋     | 105/225 [00:54<01:02,  1.93it/s]\u001b[A\n",
      " 47%|████▋     | 106/225 [00:55<01:01,  1.93it/s]\u001b[A\n",
      " 48%|████▊     | 107/225 [00:55<01:01,  1.93it/s]\u001b[A\n",
      " 48%|████▊     | 108/225 [00:56<01:00,  1.93it/s]\u001b[A\n",
      " 48%|████▊     | 109/225 [00:56<00:59,  1.94it/s]\u001b[A\n",
      " 49%|████▉     | 110/225 [00:57<00:59,  1.94it/s]\u001b[A\n",
      " 49%|████▉     | 111/225 [00:57<00:59,  1.93it/s]\u001b[A\n",
      " 50%|████▉     | 112/225 [00:58<00:58,  1.93it/s]\u001b[A\n",
      " 50%|█████     | 113/225 [00:58<00:57,  1.93it/s]\u001b[A\n",
      " 51%|█████     | 114/225 [00:59<00:57,  1.94it/s]\u001b[A\n",
      " 51%|█████     | 115/225 [00:59<00:56,  1.93it/s]\u001b[A\n",
      " 52%|█████▏    | 116/225 [01:00<00:56,  1.94it/s]\u001b[A\n",
      " 52%|█████▏    | 117/225 [01:00<00:55,  1.94it/s]\u001b[A\n",
      " 52%|█████▏    | 118/225 [01:01<00:55,  1.94it/s]\u001b[A\n",
      " 53%|█████▎    | 119/225 [01:01<00:54,  1.94it/s]\u001b[A\n",
      " 53%|█████▎    | 120/225 [01:02<00:54,  1.93it/s]\u001b[A\n",
      " 54%|█████▍    | 121/225 [01:03<00:53,  1.93it/s]\u001b[A\n",
      " 54%|█████▍    | 122/225 [01:03<00:53,  1.93it/s]\u001b[A\n",
      " 55%|█████▍    | 123/225 [01:04<00:53,  1.92it/s]\u001b[A\n",
      " 55%|█████▌    | 124/225 [01:04<00:52,  1.93it/s]\u001b[A\n",
      " 56%|█████▌    | 125/225 [01:05<00:51,  1.94it/s]\u001b[A\n",
      " 56%|█████▌    | 126/225 [01:05<00:51,  1.94it/s]\u001b[A\n",
      " 56%|█████▋    | 127/225 [01:06<00:50,  1.94it/s]\u001b[A\n",
      " 57%|█████▋    | 128/225 [01:06<00:50,  1.94it/s]\u001b[A\n",
      " 57%|█████▋    | 129/225 [01:07<00:49,  1.95it/s]\u001b[A\n",
      " 58%|█████▊    | 130/225 [01:07<00:48,  1.94it/s]\u001b[A\n",
      " 58%|█████▊    | 131/225 [01:08<00:48,  1.93it/s]\u001b[A\n",
      " 59%|█████▊    | 132/225 [01:08<00:47,  1.94it/s]\u001b[A\n",
      " 59%|█████▉    | 133/225 [01:09<00:47,  1.94it/s]\u001b[A\n",
      " 60%|█████▉    | 134/225 [01:09<00:46,  1.95it/s]\u001b[A\n",
      " 60%|██████    | 135/225 [01:10<00:46,  1.94it/s]\u001b[A\n",
      " 60%|██████    | 136/225 [01:10<00:45,  1.94it/s]\u001b[A\n",
      " 61%|██████    | 137/225 [01:11<00:45,  1.94it/s]\u001b[A\n",
      " 61%|██████▏   | 138/225 [01:11<00:45,  1.92it/s]\u001b[A\n",
      " 62%|██████▏   | 139/225 [01:12<00:44,  1.93it/s]\u001b[A\n",
      " 62%|██████▏   | 140/225 [01:12<00:44,  1.93it/s]\u001b[A\n",
      " 63%|██████▎   | 141/225 [01:13<00:43,  1.93it/s]\u001b[A\n",
      " 63%|██████▎   | 142/225 [01:13<00:42,  1.93it/s]\u001b[A\n",
      " 64%|██████▎   | 143/225 [01:14<00:42,  1.92it/s]\u001b[A\n",
      " 64%|██████▍   | 144/225 [01:14<00:42,  1.92it/s]\u001b[A\n",
      " 64%|██████▍   | 145/225 [01:15<00:41,  1.93it/s]\u001b[A\n",
      " 65%|██████▍   | 146/225 [01:15<00:41,  1.93it/s]\u001b[A\n",
      " 65%|██████▌   | 147/225 [01:16<00:40,  1.93it/s]\u001b[A\n",
      " 66%|██████▌   | 148/225 [01:16<00:39,  1.93it/s]\u001b[A\n",
      " 66%|██████▌   | 149/225 [01:17<00:39,  1.93it/s]\u001b[A\n",
      " 67%|██████▋   | 150/225 [01:17<00:38,  1.93it/s]\u001b[A\n",
      " 67%|██████▋   | 151/225 [01:18<00:38,  1.94it/s]\u001b[A\n",
      " 68%|██████▊   | 152/225 [01:19<00:37,  1.94it/s]\u001b[A\n",
      " 68%|██████▊   | 153/225 [01:19<00:37,  1.93it/s]\u001b[A\n",
      " 68%|██████▊   | 154/225 [01:20<00:36,  1.93it/s]\u001b[A\n",
      " 69%|██████▉   | 155/225 [01:20<00:35,  1.95it/s]\u001b[A\n",
      " 69%|██████▉   | 156/225 [01:21<00:35,  1.95it/s]\u001b[A\n",
      " 70%|██████▉   | 157/225 [01:21<00:34,  1.96it/s]\u001b[A\n",
      " 70%|███████   | 158/225 [01:22<00:34,  1.95it/s]\u001b[A\n",
      " 71%|███████   | 159/225 [01:22<00:33,  1.96it/s]\u001b[A\n",
      " 71%|███████   | 160/225 [01:23<00:33,  1.95it/s]\u001b[A\n",
      " 72%|███████▏  | 161/225 [01:23<00:32,  1.95it/s]\u001b[A\n",
      " 72%|███████▏  | 162/225 [01:24<00:32,  1.94it/s]\u001b[A\n",
      " 72%|███████▏  | 163/225 [01:24<00:31,  1.94it/s]\u001b[A\n",
      " 73%|███████▎  | 164/225 [01:25<00:31,  1.93it/s]\u001b[A\n",
      " 73%|███████▎  | 165/225 [01:25<00:30,  1.94it/s]\u001b[A\n",
      " 74%|███████▍  | 166/225 [01:26<00:30,  1.93it/s]\u001b[A\n",
      " 74%|███████▍  | 167/225 [01:26<00:30,  1.93it/s]\u001b[A\n",
      " 75%|███████▍  | 168/225 [01:27<00:29,  1.92it/s]\u001b[A\n",
      " 75%|███████▌  | 169/225 [01:27<00:29,  1.92it/s]\u001b[A\n",
      " 76%|███████▌  | 170/225 [01:28<00:28,  1.91it/s]\u001b[A\n"
     ]
    },
    {
     "name": "stderr",
     "output_type": "stream",
     "text": [
      " 76%|███████▌  | 171/225 [01:28<00:28,  1.92it/s]\u001b[A\n",
      " 76%|███████▋  | 172/225 [01:29<00:27,  1.93it/s]\u001b[A\n",
      " 77%|███████▋  | 173/225 [01:29<00:26,  1.94it/s]\u001b[A\n",
      " 77%|███████▋  | 174/225 [01:30<00:26,  1.94it/s]\u001b[A\n",
      " 78%|███████▊  | 175/225 [01:30<00:25,  1.94it/s]\u001b[A\n",
      " 78%|███████▊  | 176/225 [01:31<00:25,  1.95it/s]\u001b[A\n",
      " 79%|███████▊  | 177/225 [01:31<00:24,  1.95it/s]\u001b[A\n",
      " 79%|███████▉  | 178/225 [01:32<00:23,  1.96it/s]\u001b[A\n",
      " 80%|███████▉  | 179/225 [01:32<00:23,  1.95it/s]\u001b[A\n",
      " 80%|████████  | 180/225 [01:33<00:23,  1.95it/s]\u001b[A\n",
      " 80%|████████  | 181/225 [01:34<00:23,  1.86it/s]\u001b[A\n",
      " 81%|████████  | 182/225 [01:34<00:23,  1.80it/s]\u001b[A\n",
      " 81%|████████▏ | 183/225 [01:35<00:23,  1.79it/s]\u001b[A\n",
      " 82%|████████▏ | 184/225 [01:35<00:22,  1.80it/s]\u001b[A\n",
      " 82%|████████▏ | 185/225 [01:36<00:23,  1.73it/s]\u001b[A\n",
      " 83%|████████▎ | 186/225 [01:36<00:22,  1.73it/s]\u001b[A\n",
      " 83%|████████▎ | 187/225 [01:37<00:21,  1.77it/s]\u001b[A\n",
      " 84%|████████▎ | 188/225 [01:38<00:22,  1.66it/s]\u001b[A\n",
      " 84%|████████▍ | 189/225 [01:38<00:20,  1.71it/s]\u001b[A\n",
      " 84%|████████▍ | 190/225 [01:39<00:20,  1.67it/s]\u001b[A\n",
      " 85%|████████▍ | 191/225 [01:39<00:20,  1.70it/s]\u001b[A\n",
      " 85%|████████▌ | 192/225 [01:40<00:18,  1.75it/s]\u001b[A\n",
      " 86%|████████▌ | 193/225 [01:40<00:17,  1.79it/s]\u001b[A\n",
      " 86%|████████▌ | 194/225 [01:41<00:17,  1.80it/s]\u001b[A\n",
      " 87%|████████▋ | 195/225 [01:42<00:17,  1.76it/s]\u001b[A\n",
      " 87%|████████▋ | 196/225 [01:42<00:17,  1.69it/s]\u001b[A\n",
      " 88%|████████▊ | 197/225 [01:43<00:16,  1.68it/s]\u001b[A\n",
      " 88%|████████▊ | 198/225 [01:44<00:16,  1.63it/s]\u001b[A\n",
      " 88%|████████▊ | 199/225 [01:44<00:15,  1.68it/s]\u001b[A\n",
      " 89%|████████▉ | 200/225 [01:45<00:14,  1.73it/s]\u001b[A\n",
      " 89%|████████▉ | 201/225 [01:45<00:13,  1.75it/s]\u001b[A\n",
      " 90%|████████▉ | 202/225 [01:46<00:12,  1.79it/s]\u001b[A\n",
      " 90%|█████████ | 203/225 [01:46<00:11,  1.84it/s]\u001b[A\n",
      " 91%|█████████ | 204/225 [01:47<00:11,  1.87it/s]\u001b[A\n",
      " 91%|█████████ | 205/225 [01:47<00:10,  1.88it/s]\u001b[A\n",
      " 92%|█████████▏| 206/225 [01:48<00:09,  1.90it/s]\u001b[A\n",
      " 92%|█████████▏| 207/225 [01:48<00:09,  1.92it/s]\u001b[A\n",
      " 92%|█████████▏| 208/225 [01:49<00:08,  1.92it/s]\u001b[A\n",
      " 93%|█████████▎| 209/225 [01:49<00:08,  1.93it/s]\u001b[A\n",
      " 93%|█████████▎| 210/225 [01:50<00:07,  1.93it/s]\u001b[A\n",
      " 94%|█████████▍| 211/225 [01:50<00:07,  1.94it/s]\u001b[A\n",
      " 94%|█████████▍| 212/225 [01:51<00:06,  1.89it/s]\u001b[A\n",
      " 95%|█████████▍| 213/225 [01:51<00:06,  1.90it/s]\u001b[A\n",
      " 95%|█████████▌| 214/225 [01:52<00:05,  1.88it/s]\u001b[A\n",
      " 96%|█████████▌| 215/225 [01:52<00:05,  1.89it/s]\u001b[A\n",
      " 96%|█████████▌| 216/225 [01:53<00:04,  1.90it/s]\u001b[A\n",
      " 96%|█████████▋| 217/225 [01:54<00:04,  1.87it/s]\u001b[A\n",
      " 97%|█████████▋| 218/225 [01:54<00:03,  1.86it/s]\u001b[A\n",
      " 97%|█████████▋| 219/225 [01:55<00:03,  1.87it/s]\u001b[A\n",
      " 98%|█████████▊| 220/225 [01:55<00:02,  1.85it/s]\u001b[A\n",
      " 98%|█████████▊| 221/225 [01:56<00:02,  1.85it/s]\u001b[A\n",
      " 99%|█████████▊| 222/225 [01:56<00:01,  1.87it/s]\u001b[A\n",
      " 99%|█████████▉| 223/225 [01:57<00:01,  1.83it/s]\u001b[A\n",
      "100%|█████████▉| 224/225 [01:57<00:00,  1.83it/s]\u001b[A\n",
      "100%|██████████| 225/225 [01:58<00:00,  1.90it/s]\u001b[A"
     ]
    },
    {
     "name": "stdout",
     "output_type": "stream",
     "text": [
      "tensor(0.2493, grad_fn=<MseLossBackward>)\n"
     ]
    },
    {
     "name": "stderr",
     "output_type": "stream",
     "text": [
      "\n"
     ]
    }
   ],
   "source": [
    "BATCH_SIZE = 100\n",
    "EPOCHS = 3\n",
    "\n",
    "for epoch in range(EPOCHS):\n",
    "    for i in tqdm(range(0,len(train_X),BATCH_SIZE)):\n",
    "        #print(i,i+BATCH_SIZE)\n",
    "        batch_X = train_X[i:i+BATCH_SIZE].view(-1,1,50,50)\n",
    "        batch_y = train_y[i:i+BATCH_SIZE]\n",
    "        \n",
    "        net.zero_grad()\n",
    "        outputs = net(batch_X)\n",
    "        loss = loss_function(outputs,batch_y)\n",
    "        loss.backward()\n",
    "        optimizer.step()\n",
    "\n",
    "print(loss)\n",
    "        "
   ]
  },
  {
   "cell_type": "code",
   "execution_count": 104,
   "metadata": {},
   "outputs": [
    {
     "name": "stdout",
     "output_type": "stream",
     "text": [
      "tensor(0.2493, grad_fn=<MseLossBackward>)\n"
     ]
    }
   ],
   "source": [
    "print(loss)"
   ]
  },
  {
   "cell_type": "code",
   "execution_count": 105,
   "metadata": {
    "collapsed": true
   },
   "outputs": [
    {
     "name": "stderr",
     "output_type": "stream",
     "text": [
      "\n",
      "  0%|          | 0/2494 [00:00<?, ?it/s]\u001b[A\n",
      "  1%|          | 25/2494 [00:00<00:10, 245.76it/s]\u001b[A\n",
      "  2%|▏         | 57/2494 [00:00<00:09, 263.52it/s]\u001b[A\n",
      "  4%|▎         | 88/2494 [00:00<00:08, 274.32it/s]\u001b[A\n",
      "  5%|▍         | 118/2494 [00:00<00:08, 280.80it/s]\u001b[A\n",
      "  6%|▌         | 148/2494 [00:00<00:08, 284.31it/s]\u001b[A\n",
      "  7%|▋         | 175/2494 [00:00<00:08, 277.79it/s]\u001b[A\n",
      "  8%|▊         | 207/2494 [00:00<00:07, 288.56it/s]\u001b[A\n",
      " 10%|▉         | 239/2494 [00:00<00:07, 295.99it/s]\u001b[A\n",
      " 11%|█         | 268/2494 [00:00<00:07, 291.70it/s]\u001b[A\n",
      " 12%|█▏        | 299/2494 [00:01<00:07, 296.20it/s]\u001b[A\n",
      " 13%|█▎        | 329/2494 [00:01<00:07, 294.43it/s]\u001b[A\n",
      " 14%|█▍        | 359/2494 [00:01<00:07, 289.84it/s]\u001b[A\n",
      " 16%|█▌        | 388/2494 [00:01<00:07, 285.77it/s]\u001b[A\n",
      " 17%|█▋        | 420/2494 [00:01<00:07, 293.82it/s]\u001b[A\n",
      " 18%|█▊        | 451/2494 [00:01<00:06, 297.62it/s]\u001b[A\n",
      " 19%|█▉        | 482/2494 [00:01<00:06, 300.52it/s]\u001b[A\n",
      " 21%|██        | 513/2494 [00:01<00:06, 293.59it/s]\u001b[A\n",
      " 22%|██▏       | 543/2494 [00:01<00:06, 281.49it/s]\u001b[A\n",
      " 23%|██▎       | 572/2494 [00:01<00:06, 283.91it/s]\u001b[A\n",
      " 24%|██▍       | 603/2494 [00:02<00:06, 289.36it/s]\u001b[A\n",
      " 25%|██▌       | 633/2494 [00:02<00:06, 272.96it/s]\u001b[A\n",
      " 27%|██▋       | 665/2494 [00:02<00:06, 284.18it/s]\u001b[A\n",
      " 28%|██▊       | 694/2494 [00:02<00:06, 274.19it/s]\u001b[A\n",
      " 29%|██▉       | 725/2494 [00:02<00:06, 282.97it/s]\u001b[A\n",
      " 30%|███       | 754/2494 [00:02<00:06, 281.35it/s]\u001b[A\n",
      " 31%|███▏      | 784/2494 [00:02<00:05, 285.60it/s]\u001b[A\n",
      " 33%|███▎      | 815/2494 [00:02<00:05, 291.03it/s]\u001b[A\n",
      " 34%|███▍      | 845/2494 [00:02<00:05, 292.83it/s]\u001b[A\n",
      " 35%|███▌      | 875/2494 [00:03<00:05, 287.57it/s]\u001b[A\n",
      " 36%|███▌      | 904/2494 [00:03<00:05, 276.76it/s]\u001b[A\n",
      " 37%|███▋      | 934/2494 [00:03<00:05, 282.51it/s]\u001b[A\n",
      " 39%|███▊      | 963/2494 [00:03<00:05, 282.59it/s]\u001b[A\n",
      " 40%|███▉      | 992/2494 [00:03<00:05, 257.65it/s]\u001b[A\n",
      " 41%|████      | 1021/2494 [00:03<00:05, 264.31it/s]\u001b[A\n",
      " 42%|████▏     | 1048/2494 [00:03<00:05, 262.43it/s]\u001b[A\n",
      " 43%|████▎     | 1075/2494 [00:03<00:05, 261.10it/s]\u001b[A\n",
      " 45%|████▍     | 1110/2494 [00:03<00:04, 281.07it/s]\u001b[A\n",
      " 46%|████▌     | 1140/2494 [00:03<00:04, 286.26it/s]\u001b[A\n",
      " 47%|████▋     | 1170/2494 [00:04<00:04, 289.72it/s]\u001b[A\n",
      " 48%|████▊     | 1200/2494 [00:04<00:04, 286.73it/s]\u001b[A\n",
      " 49%|████▉     | 1231/2494 [00:04<00:04, 291.90it/s]\u001b[A\n",
      " 51%|█████     | 1262/2494 [00:04<00:04, 296.95it/s]\u001b[A\n",
      " 52%|█████▏    | 1292/2494 [00:04<00:04, 290.59it/s]\u001b[A\n",
      " 53%|█████▎    | 1322/2494 [00:04<00:04, 292.92it/s]\u001b[A\n",
      " 54%|█████▍    | 1353/2494 [00:04<00:03, 296.11it/s]\u001b[A\n",
      " 55%|█████▌    | 1384/2494 [00:04<00:03, 298.50it/s]\u001b[A\n",
      " 57%|█████▋    | 1414/2494 [00:04<00:03, 298.13it/s]\u001b[A\n",
      " 58%|█████▊    | 1444/2494 [00:05<00:03, 297.17it/s]\u001b[A\n",
      " 59%|█████▉    | 1474/2494 [00:05<00:03, 296.23it/s]\u001b[A\n",
      " 60%|██████    | 1505/2494 [00:05<00:03, 298.12it/s]\u001b[A\n",
      " 62%|██████▏   | 1536/2494 [00:05<00:03, 299.51it/s]\u001b[A\n",
      " 63%|██████▎   | 1566/2494 [00:05<00:03, 299.28it/s]\u001b[A\n",
      " 64%|██████▍   | 1597/2494 [00:05<00:02, 300.40it/s]\u001b[A\n",
      " 65%|██████▌   | 1628/2494 [00:05<00:02, 300.90it/s]\u001b[A\n",
      " 67%|██████▋   | 1659/2494 [00:05<00:02, 301.22it/s]\u001b[A\n",
      " 68%|██████▊   | 1690/2494 [00:05<00:02, 294.19it/s]\u001b[A\n",
      " 69%|██████▉   | 1720/2494 [00:05<00:02, 286.33it/s]\u001b[A\n",
      " 70%|███████   | 1749/2494 [00:06<00:02, 284.14it/s]\u001b[A\n",
      " 71%|███████▏  | 1778/2494 [00:06<00:02, 270.98it/s]\u001b[A\n",
      " 72%|███████▏  | 1806/2494 [00:06<00:02, 251.11it/s]\u001b[A\n",
      " 73%|███████▎  | 1832/2494 [00:06<00:02, 248.28it/s]\u001b[A\n",
      " 75%|███████▍  | 1861/2494 [00:06<00:02, 257.07it/s]\u001b[A\n",
      " 76%|███████▌  | 1889/2494 [00:06<00:02, 263.00it/s]\u001b[A\n",
      " 77%|███████▋  | 1920/2494 [00:06<00:02, 274.93it/s]\u001b[A\n",
      " 78%|███████▊  | 1952/2494 [00:06<00:01, 286.72it/s]\u001b[A\n",
      " 80%|███████▉  | 1984/2494 [00:06<00:01, 294.79it/s]\u001b[A\n",
      " 81%|████████  | 2014/2494 [00:07<00:01, 293.58it/s]\u001b[A\n",
      " 82%|████████▏ | 2044/2494 [00:07<00:01, 275.06it/s]\u001b[A\n",
      " 83%|████████▎ | 2078/2494 [00:07<00:01, 290.05it/s]\u001b[A\n",
      " 85%|████████▍ | 2108/2494 [00:07<00:01, 287.64it/s]\u001b[A\n",
      " 86%|████████▌ | 2138/2494 [00:07<00:01, 259.39it/s]\u001b[A\n",
      " 87%|████████▋ | 2165/2494 [00:07<00:01, 256.73it/s]\u001b[A\n",
      " 88%|████████▊ | 2196/2494 [00:07<00:01, 269.39it/s]\u001b[A\n",
      " 89%|████████▉ | 2224/2494 [00:07<00:01, 268.58it/s]\u001b[A\n",
      " 90%|█████████ | 2257/2494 [00:07<00:00, 283.76it/s]\u001b[A\n",
      " 92%|█████████▏| 2286/2494 [00:08<00:00, 281.85it/s]\u001b[A\n",
      " 93%|█████████▎| 2319/2494 [00:08<00:00, 293.94it/s]\u001b[A\n",
      " 94%|█████████▍| 2352/2494 [00:08<00:00, 301.77it/s]\u001b[A\n",
      " 96%|█████████▌| 2384/2494 [00:08<00:00, 306.09it/s]\u001b[A\n",
      " 97%|█████████▋| 2415/2494 [00:08<00:00, 305.94it/s]\u001b[A\n",
      " 98%|█████████▊| 2446/2494 [00:08<00:00, 269.63it/s]\u001b[A\n",
      "100%|██████████| 2494/2494 [00:08<00:00, 284.96it/s]\u001b[A"
     ]
    },
    {
     "name": "stdout",
     "output_type": "stream",
     "text": [
      "0.508\n"
     ]
    },
    {
     "name": "stderr",
     "output_type": "stream",
     "text": [
      "\n"
     ]
    }
   ],
   "source": [
    "correct = 0\n",
    "total = 0\n",
    "with torch.no_grad():\n",
    "    for i in tqdm(range(len(test_X))):\n",
    "        real_class = torch.argmax(test_y[i])\n",
    "        net_out = net(test_X[i].view(-1,1,50,50))[0]\n",
    "        predicted_class = torch.argmax(net_out)\n",
    "        if predicted_class == real_class:\n",
    "            correct+=1\n",
    "        total+=1\n",
    "print(round(correct/total,3))"
   ]
  },
  {
   "cell_type": "code",
   "execution_count": 107,
   "metadata": {},
   "outputs": [
    {
     "data": {
      "text/plain": [
       "False"
      ]
     },
     "execution_count": 107,
     "metadata": {},
     "output_type": "execute_result"
    }
   ],
   "source": [
    "torch.cuda.is_available()"
   ]
  },
  {
   "cell_type": "code",
   "execution_count": null,
   "metadata": {},
   "outputs": [],
   "source": []
  }
 ],
 "metadata": {
  "kernelspec": {
   "display_name": "Python 3",
   "language": "python",
   "name": "python3"
  },
  "language_info": {
   "codemirror_mode": {
    "name": "ipython",
    "version": 3
   },
   "file_extension": ".py",
   "mimetype": "text/x-python",
   "name": "python",
   "nbconvert_exporter": "python",
   "pygments_lexer": "ipython3",
   "version": "3.7.4"
  }
 },
 "nbformat": 4,
 "nbformat_minor": 2
}
